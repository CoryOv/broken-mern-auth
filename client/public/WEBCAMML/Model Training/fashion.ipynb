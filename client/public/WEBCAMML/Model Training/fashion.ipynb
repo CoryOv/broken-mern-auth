{
 "cells": [
  {
   "cell_type": "code",
   "execution_count": 2,
   "metadata": {},
   "outputs": [
    {
     "name": "stdout",
     "output_type": "stream",
     "text": [
      "Epoch 1/5\n",
      "1875/1875 [==============================] - 8s 4ms/step - loss: 0.5008 - accuracy: 0.8242\n",
      "Epoch 2/5\n",
      "1872/1875 [============================>.] - ETA: 0s - loss: 0.3784 - accuracy: 0.8646\n",
      "Achieved 85% accuracy\n",
      "1875/1875 [==============================] - 8s 4ms/step - loss: 0.3783 - accuracy: 0.8647\n",
      "313/313 [==============================] - 1s 3ms/step - loss: 0.3973 - accuracy: 0.8563\n"
     ]
    },
    {
     "data": {
      "text/plain": [
       "[0.3972957134246826, 0.8562999963760376]"
      ]
     },
     "execution_count": 2,
     "metadata": {},
     "output_type": "execute_result"
    }
   ],
   "source": [
    "import tensorflow as tf\n",
    "import matplotlib.pyplot as plt\n",
    "import ssl\n",
    "ssl.create_default_https_context = ssl._create_unverified_context\n",
    "df = tf.keras.datasets.fashion_mnist\n",
    "\n",
    "class myCallback(tf.keras.callbacks.Callback):\n",
    "    def on_epoch_end(self, epoch, logs = []):\n",
    "        if (logs.get('accuracy') > 0.85):\n",
    "            print(\"\\nAchieved 85% accuracy\")\n",
    "            self.model.stop_training = True\n",
    "\n",
    "callbacks = myCallback()\n",
    "\n",
    "\n",
    "(X_images, X_labels), (y_images, y_labels) = df.load_data()\n",
    "X_images = X_images / 255.0\n",
    "y_images = y_images / 255.0\n",
    "\n",
    "model = tf.keras.models.Sequential([\n",
    "    tf.keras.layers.Flatten(),\n",
    "    tf.keras.layers.Dense(128, activation=tf.nn.relu),\n",
    "    tf.keras.layers.Dense(10, activation=tf.nn.softmax)])\n",
    "\n",
    "model.compile(\n",
    "    optimizer = tf.keras.optimizers.Adam(),\n",
    "    loss = \"sparse_categorical_crossentropy\",\n",
    "    metrics = [\"accuracy\"]\n",
    ")\n",
    "\n",
    "model.fit(X_images, X_labels, epochs = 5, callbacks = [callbacks])\n",
    "model.evaluate(y_images, y_labels)\n",
    "\n",
    "# plt.imshow(X_images[0])\n",
    "# print(X_labels[0])\n",
    "# print(X_images[0])"
   ]
  }
 ],
 "metadata": {
  "kernelspec": {
   "display_name": "Python 3.10.7 64-bit",
   "language": "python",
   "name": "python3"
  },
  "language_info": {
   "codemirror_mode": {
    "name": "ipython",
    "version": 3
   },
   "file_extension": ".py",
   "mimetype": "text/x-python",
   "name": "python",
   "nbconvert_exporter": "python",
   "pygments_lexer": "ipython3",
   "version": "3.10.8"
  },
  "orig_nbformat": 4,
  "vscode": {
   "interpreter": {
    "hash": "208277374880e6b09780dcf36cb46a059f117e93ef8f4caf237166693879cedf"
   }
  }
 },
 "nbformat": 4,
 "nbformat_minor": 2
}
